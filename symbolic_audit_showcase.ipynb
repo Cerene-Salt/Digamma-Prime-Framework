{
 "cells": [
  {
   "cell_type": "code",
   "execution_count": 1,
   "id": "c333b620",
   "metadata": {},
   "outputs": [],
   "source": [
    "from docs.case_studies.credit_scoring_audit import run_credit_audit\n",
    "from docs.case_studies.medical_glucose_audit import run_medical_audit\n",
    "from docs.case_studies.retail_drift_detection import run_retail_audit\n"
   ]
  },
  {
   "cell_type": "code",
   "execution_count": 2,
   "id": "9ce93b16",
   "metadata": {},
   "outputs": [
    {
     "name": "stdout",
     "output_type": "stream",
     "text": [
      "🔍 Running Credit Audit\n",
      "Credit scoring structural drift: 2\n",
      "✅ Model structure within acceptable bounds.\n"
     ]
    }
   ],
   "source": [
    "print(\"🔍 Running Credit Audit\")\n",
    "run_credit_audit()\n"
   ]
  },
  {
   "cell_type": "code",
   "execution_count": 3,
   "id": "85ca33c1",
   "metadata": {},
   "outputs": [
    {
     "name": "stdout",
     "output_type": "stream",
     "text": [
      "🔍 Running Medical Audit\n",
      "Medical glucose rate divergence: 0.300000000000000\n",
      "✅ Model behavior stable across glucose range.\n"
     ]
    }
   ],
   "source": [
    "print(\"🔍 Running Medical Audit\")\n",
    "run_medical_audit()\n"
   ]
  },
  {
   "cell_type": "code",
   "execution_count": 4,
   "id": "7f968611",
   "metadata": {},
   "outputs": [
    {
     "name": "stdout",
     "output_type": "stream",
     "text": [
      "🔍 Running Retail Audit\n",
      "Retail model drift: 0.500000000000000\n",
      "✅ Retail model structure is consistent.\n"
     ]
    }
   ],
   "source": [
    "print(\"🔍 Running Retail Audit\")\n",
    "run_retail_audit()\n"
   ]
  },
  {
   "cell_type": "code",
   "execution_count": 5,
   "id": "96ba9368",
   "metadata": {},
   "outputs": [
    {
     "data": {
      "text/html": [
       "<style type=\"text/css\">\n",
       "</style>\n",
       "<table id=\"T_15203\">\n",
       "  <caption>🔎 Symbolic Audit Summary</caption>\n",
       "  <thead>\n",
       "    <tr>\n",
       "      <th class=\"blank level0\" >&nbsp;</th>\n",
       "      <th id=\"T_15203_level0_col0\" class=\"col_heading level0 col0\" >Domain</th>\n",
       "      <th id=\"T_15203_level0_col1\" class=\"col_heading level0 col1\" >Metric</th>\n",
       "      <th id=\"T_15203_level0_col2\" class=\"col_heading level0 col2\" >Value</th>\n",
       "      <th id=\"T_15203_level0_col3\" class=\"col_heading level0 col3\" >Retrain?</th>\n",
       "    </tr>\n",
       "  </thead>\n",
       "  <tbody>\n",
       "    <tr>\n",
       "      <th id=\"T_15203_level0_row0\" class=\"row_heading level0 row0\" >0</th>\n",
       "      <td id=\"T_15203_row0_col0\" class=\"data row0 col0\" >Credit</td>\n",
       "      <td id=\"T_15203_row0_col1\" class=\"data row0 col1\" >Drift</td>\n",
       "      <td id=\"T_15203_row0_col2\" class=\"data row0 col2\" >2.000000</td>\n",
       "      <td id=\"T_15203_row0_col3\" class=\"data row0 col3\" >No</td>\n",
       "    </tr>\n",
       "    <tr>\n",
       "      <th id=\"T_15203_level0_row1\" class=\"row_heading level0 row1\" >1</th>\n",
       "      <td id=\"T_15203_row1_col0\" class=\"data row1 col0\" >Medical</td>\n",
       "      <td id=\"T_15203_row1_col1\" class=\"data row1 col1\" >Rate</td>\n",
       "      <td id=\"T_15203_row1_col2\" class=\"data row1 col2\" >0.300000</td>\n",
       "      <td id=\"T_15203_row1_col3\" class=\"data row1 col3\" >No</td>\n",
       "    </tr>\n",
       "    <tr>\n",
       "      <th id=\"T_15203_level0_row2\" class=\"row_heading level0 row2\" >2</th>\n",
       "      <td id=\"T_15203_row2_col0\" class=\"data row2 col0\" >Retail</td>\n",
       "      <td id=\"T_15203_row2_col1\" class=\"data row2 col1\" >Drift</td>\n",
       "      <td id=\"T_15203_row2_col2\" class=\"data row2 col2\" >0.500000</td>\n",
       "      <td id=\"T_15203_row2_col3\" class=\"data row2 col3\" >No</td>\n",
       "    </tr>\n",
       "  </tbody>\n",
       "</table>\n"
      ],
      "text/plain": [
       "<pandas.io.formats.style.Styler at 0x26d21461d30>"
      ]
     },
     "execution_count": 5,
     "metadata": {},
     "output_type": "execute_result"
    }
   ],
   "source": [
    "import pandas as pd\n",
    "\n",
    "summary = pd.DataFrame({\n",
    "    \"Domain\": [\"Credit\", \"Medical\", \"Retail\"],\n",
    "    \"Metric\": [\"Drift\", \"Rate\", \"Drift\"],\n",
    "    \"Value\": [2.0, 0.3, 0.5],\n",
    "    \"Retrain?\": [\"No\", \"No\", \"No\"]\n",
    "})\n",
    "\n",
    "summary.style.set_caption(\"🔎 Symbolic Audit Summary\")\n"
   ]
  },
  {
   "cell_type": "markdown",
   "id": "0c66f5a9",
   "metadata": {},
   "source": [
    "## Symbolic Audit Showcase\n",
    "\n",
    "This notebook runs three domain-specific audits using symbolic models and divergence metrics.\n",
    "\n",
    "- **Credit**: Drift between approval models\n",
    "- **Medical**: Rate divergence in glucose prediction\n",
    "- **Retail**: Structural drift in demand forecasting\n",
    "\n",
    "Each audit prints its metric and retrain recommendation.\n"
   ]
  }
 ],
 "metadata": {
  "kernelspec": {
   "display_name": "Python 3",
   "language": "python",
   "name": "python3"
  },
  "language_info": {
   "codemirror_mode": {
    "name": "ipython",
    "version": 3
   },
   "file_extension": ".py",
   "mimetype": "text/x-python",
   "name": "python",
   "nbconvert_exporter": "python",
   "pygments_lexer": "ipython3",
   "version": "3.13.5"
  }
 },
 "nbformat": 4,
 "nbformat_minor": 5
}
